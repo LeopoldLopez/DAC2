{
  "cells": [
    {
      "cell_type": "markdown",
      "id": "43e596ea",
      "metadata": {
        "id": "43e596ea"
      },
      "source": [
        "# Projet CSAA - Classification du rythme cardiaque issu d'ECG\n",
        "\n",
        "\n",
        "Ce jeu de données est composé d'une collections de signaux de battements cardiaques provenant d'un jeu de données célèbres dans le domaine de la classification des battements cardiaques, le jeu de données sur l'arythmie du MIT-BIH.\n",
        "\n",
        "Les signaux correspondent à des formes d'électrocardiogramme (ECG) de battements cardiaques pour le cas normal et les cas affectés par différentes arythmies et infarctus du myocarde. Ces signaux sont prétraités et segmentés, chaque segment correspondant à un battement cardiaque.\n",
        "\n",
        "<img src=\"https://github.com/LeopoldLopez/DAC2/blob/main/DataECG.png?raw=1\" width=\"800\" height=\"600\">\n",
        "\n",
        "On distingue 5 battements cardiaques différents : Battements normaux', 'Battements inconnus', 'Battements ectopiques ventriculaires', 'Battements ectopiques supraventriculaires' et 'Battements de fusion'.\n",
        "\n",
        "De ces signaux, on extrait des caractéristiques par la librairie TSFEL - *Time Series Features Extraction Library* (https://tsfel.readthedocs.io/en/latest/index.html)\n",
        "\n",
        "Les 156 caractéristiques extraites sont divisées selon les domaines :\n",
        "- temporel avec 31 caractéristiques comme l'entropie, Max, Min, Absolute Energy ...\n",
        "- statistique avec 14 caractéristiques comme écart moyen absolu, écart médian, variance, Kurtosis...\n",
        "- spectral  avec 111 caractéristiques comme les coefficients FFT par bande de fréquence, ondelettes...\n",
        "\n",
        "Lien vers le papier expliquant TSFEL : https://www.sciencedirect.com/science/article/pii/S2352711020300017"
      ]
    },
    {
      "cell_type": "code",
      "execution_count": null,
      "id": "17ec2c7e",
      "metadata": {
        "id": "17ec2c7e"
      },
      "outputs": [],
      "source": [
        "# Librairies utiles\n",
        "import numpy as np\n",
        "import sklearn\n",
        "import pandas as pd\n",
        "import seaborn as sns\n",
        "import matplotlib.pyplot as plt"
      ]
    },
    {
      "cell_type": "markdown",
      "id": "9fe2730e",
      "metadata": {
        "id": "9fe2730e"
      },
      "source": [
        "# Chargement des données d'apprentissage et de test"
      ]
    },
    {
      "cell_type": "code",
      "execution_count": null,
      "id": "6e64b5e9",
      "metadata": {
        "colab": {
          "base_uri": "https://localhost:8080/"
        },
        "id": "6e64b5e9",
        "outputId": "459d0e01-e6a0-4576-bcc8-92a7448d422a"
      },
      "outputs": [
        {
          "output_type": "stream",
          "name": "stdout",
          "text": [
            "Cloning into 'DAC2'...\n",
            "remote: Enumerating objects: 25, done.\u001b[K\n",
            "remote: Counting objects: 100% (25/25), done.\u001b[K\n",
            "remote: Compressing objects: 100% (20/20), done.\u001b[K\n",
            "remote: Total 25 (delta 3), reused 25 (delta 3), pack-reused 0 (from 0)\u001b[K\n",
            "Receiving objects: 100% (25/25), 7.74 MiB | 7.09 MiB/s, done.\n",
            "Resolving deltas: 100% (3/3), done.\n",
            "Taille du dataset ECG: (5000, 188)\n",
            "Taille du dataset après extraction de features : (5000, 156) (5000,)\n",
            "Taille de la base d apprentissage ECG : (4000, 187) Taille du dataset de test ECG : (1000, 187)\n",
            "Taille de la base d apprentissage Features : (4000, 155) Taille du dataset de test Features : (4000, 155)\n"
          ]
        }
      ],
      "source": [
        "!git clone https://github.com/LeopoldLopez/DAC2.git\n",
        "!mv DAC2/* .\n",
        "\n",
        "# Chargement des données brutes\n",
        "DataECGFull=np.load('./DataECG.npy')\n",
        "print('Taille du dataset ECG:', DataECGFull.shape)\n",
        "\n",
        "# Après extraction des features\n",
        "# Chargement des données d'apprentissage\n",
        "DataFeature=np.load('./DataFeature.npy')\n",
        "Label=np.load('./Label.npy')\n",
        "print('Taille du dataset après extraction de features :', DataFeature.shape, Label.shape)\n",
        "\n",
        "\n",
        "# Séparation en ensemble d'apprentissage et de test\n",
        "from sklearn.model_selection import train_test_split\n",
        "\n",
        "# la dernière colonne sont des labels\n",
        "DataECGFull = DataECGFull[:,:-1]\n",
        "DataFeature = DataFeature[:,:-1]\n",
        "\n",
        "DataECGApp, DataECGTest, Label_train, Label_test = train_test_split(DataECGFull, Label, test_size=0.2, random_state=42)\n",
        "DataFeatureApp, DataFeatureTest, LabelF_train, LabelF_test = train_test_split(DataFeature, Label, test_size=0.2, random_state=42)\n",
        "\n",
        "print('Taille de la base d apprentissage ECG :', DataECGApp.shape, 'Taille du dataset de test ECG :', DataECGTest.shape)\n",
        "print('Taille de la base d apprentissage Features :', DataFeatureApp.shape, 'Taille du dataset de test Features :', DataFeatureApp.shape)\n"
      ]
    },
    {
      "cell_type": "markdown",
      "id": "48df15b1",
      "metadata": {
        "id": "48df15b1"
      },
      "source": [
        "# Chargement des variables issues *TSFEL*"
      ]
    },
    {
      "cell_type": "code",
      "execution_count": null,
      "id": "97c9da7d",
      "metadata": {
        "colab": {
          "base_uri": "https://localhost:8080/"
        },
        "id": "97c9da7d",
        "outputId": "be55a474-7575-44f5-dea2-baa5a32755fe"
      },
      "outputs": [
        {
          "output_type": "stream",
          "name": "stdout",
          "text": [
            "Nombre de variables statistiques : (31,)\n",
            "Nombre de variables temporelles : (14,)\n",
            "Nombre de variables spectrales : (111,)\n"
          ]
        }
      ],
      "source": [
        "ListeVariablesStat=np.load('./ListeVariableStat.npy',allow_pickle=True)\n",
        "print('Nombre de variables statistiques :',ListeVariablesStat.shape)\n",
        "#print('Liste Variables Statistiques :', ListeVariablesStat)\n",
        "\n",
        "ListeVariablesTemps=np.load('./ListeVariableTemps.npy',allow_pickle=True)\n",
        "print('Nombre de variables temporelles :',ListeVariablesTemps.shape)\n",
        "#print('Liste Variables Temporelles :',ListeVariablesTemps)\n",
        "\n",
        "ListeVariablesSpectral=np.load('./ListeVariableSpectral.npy',allow_pickle=True)\n",
        "print('Nombre de variables spectrales :',ListeVariablesSpectral.shape)\n",
        "#print('Liste Variables Spectrales :',ListeVariablesSpectral)"
      ]
    },
    {
      "cell_type": "markdown",
      "id": "20026ed1",
      "metadata": {
        "id": "20026ed1"
      },
      "source": [
        "### Fonctions pour réaliser une table de correspondance entre le label des approches non supervisées et le label réel"
      ]
    },
    {
      "cell_type": "code",
      "execution_count": null,
      "id": "17e21e75",
      "metadata": {
        "id": "17e21e75"
      },
      "outputs": [],
      "source": [
        "def retrieve_info(cluster_labels,y_train):\n",
        " #Associe l'étiquette la plus probable à chaque groupe dans le modèle KMeans.\n",
        " #Résultats : dictionnaire des clusters associés à chaque étiquette.\n",
        "\n",
        "# Initialisation\n",
        "  reference_labels = np.zeros((len(np.unique(cluster_labels)),1))\n",
        "# Loop pour chaque label\n",
        "  for i in range(len(np.unique(cluster_labels))):\n",
        "    index = np.where(cluster_labels == i,1,0)\n",
        "    num = np.bincount(y_train[index==1]).argmax()\n",
        "    reference_labels[i] = num\n",
        "  return reference_labels\n",
        "\n",
        "def correspondance(y_pred_kmeans,y_train):\n",
        "  # Correspondance entre la partition et les classes de la vérité terrain\n",
        "  reference_labels = retrieve_info(y_pred_kmeans,y_train)\n",
        "  number_labels = np.zeros(len(y_pred_kmeans))\n",
        "  for i in range(len(y_pred_kmeans)):\n",
        "    number_labels[i] = reference_labels[y_pred_kmeans[i]]\n",
        "  return number_labels\n"
      ]
    },
    {
      "cell_type": "code",
      "execution_count": null,
      "id": "1oupHvDi42BQ",
      "metadata": {
        "id": "1oupHvDi42BQ"
      },
      "outputs": [],
      "source": [
        "# Const\n",
        "\n",
        "DATASET = DataFeature\n",
        "DATASET_APP = DataFeatureApp\n",
        "DATASET_TEST = DataFeatureTest[:100,:] # TODO : supprimer, c'est pour les tests\n",
        "LABEL = Label\n",
        "LABEL_APP = LabelF_train\n",
        "LABEL_TEST = LabelF_test[:100] # TODO : same\n",
        "\n",
        "# DATASET = DataECGFull\n",
        "# DATASET_APP = DataECGApp\n",
        "# DATASET_TEST = DataECGTest\n",
        "# LABEL = Label\n",
        "# LABEL_APP = Label_train\n",
        "# LABEL_TEST = Label_test"
      ]
    },
    {
      "cell_type": "markdown",
      "id": "6068afcd-9f01-417a-96b9-61d5dd5230e9",
      "metadata": {
        "id": "6068afcd-9f01-417a-96b9-61d5dd5230e9"
      },
      "source": [
        "# Partie I : Implémentation de l'algorithme de programmation dynamique (DTW)\n",
        "\n",
        "1. Ecrivez une fonction en python DTW qui implémente le calcul et l'affichage de la matrice des coûts définie en TD.\n",
        "\n"
      ]
    },
    {
      "cell_type": "code",
      "execution_count": null,
      "id": "d42e698d-b4a8-4347-9a05-bb2fdd063d49",
      "metadata": {
        "id": "d42e698d-b4a8-4347-9a05-bb2fdd063d49"
      },
      "outputs": [],
      "source": [
        "from math import *\n",
        "import numpy as np\n",
        "import sys"
      ]
    },
    {
      "cell_type": "code",
      "execution_count": null,
      "id": "b11cdc41-09be-4f45-9d7e-15657484876a",
      "metadata": {
        "id": "b11cdc41-09be-4f45-9d7e-15657484876a"
      },
      "outputs": [],
      "source": [
        "def DTW(A, B, distance, weights):\n",
        "    w0,w1,w2 = weights\n",
        "    n,m = len(A),len(B)\n",
        "    g = np.zeros((n+1,m+1))\n",
        "    d = np.array([[distance(A[i], B[j]) for j in range(m)] for i in range(n)])\n",
        "\n",
        "    for j in range(1,m+1):\n",
        "      g[0,j] = np.inf\n",
        "    for i in range(1,n+1):\n",
        "      g[i, 0] = np.inf\n",
        "      for j in range(1,m+1):\n",
        "        # print(i,j)\n",
        "        # print(d.shape)\n",
        "        g[i,j] = min(\n",
        "            g[i-1, j] + w0*d[i-1,j-1],\n",
        "            g[i-1,j-1] + w1*d[i-1,j-1],\n",
        "            g[i, j-1] + w2*d[i-1,j-1],\n",
        "        )\n",
        "\n",
        "    s = g[n, m]/(n+m)\n",
        "\n",
        "    return s,g\n",
        "\n",
        "# Exemple du CTD\n",
        "# DTW([-1, 0, 1, 2], [2, 1, 1, -1, 0], lambda a, b: sqrt((a-b)**2))\n",
        "# Avec w0 = w1 = w2 = 1 on a bien le résultat attendu"
      ]
    },
    {
      "cell_type": "markdown",
      "id": "f50ff141-2a19-4456-b038-6d7aa8bd77fc",
      "metadata": {
        "id": "f50ff141-2a19-4456-b038-6d7aa8bd77fc"
      },
      "source": [
        "\n",
        "## Système de reconnaissance de battements cardiaques par DTW\n",
        "\n",
        "**Système de reconnaissance :**\n",
        "Pour chaque profil temporel test :\n",
        "\n",
        "a) Calculer pour chaque classe, le score de la DTW entre le profil temporel test et les profils temporels de la classe\n",
        "\n",
        "b) Déterminer la classe d'appartenance par minimum du score sur toutes les classes\n"
      ]
    },
    {
      "cell_type": "code",
      "execution_count": null,
      "id": "kPr-JO9gmVJt",
      "metadata": {
        "id": "kPr-JO9gmVJt"
      },
      "outputs": [],
      "source": [
        "# Moyenne des classes\n",
        "\n",
        "def average(l):\n",
        "  t = zip(*l)\n",
        "  return [sum(g)/len(g) for g in t]\n",
        "\n",
        "nb_class = int(max(LABEL_APP))+1\n",
        "class_profiles = [[] for i in range(nb_class)]\n",
        "for i,x in enumerate(DATASET_APP):\n",
        "  class_profiles[int(LABEL_APP[i])].append(x)\n",
        "for i, x in enumerate(class_profiles):\n",
        "  class_profiles[i] = average(x)"
      ]
    },
    {
      "cell_type": "code",
      "execution_count": null,
      "id": "2ee29828-93e9-4ef3-af05-fc828f9a1b7d",
      "metadata": {
        "id": "2ee29828-93e9-4ef3-af05-fc828f9a1b7d",
        "collapsed": true
      },
      "outputs": [],
      "source": [
        "def distance(ai, bj):\n",
        "  return sqrt((ai - bj)**2)\n",
        "\n",
        "scores = np.zeros((len(DATASET_TEST), nb_class))\n",
        "for i,l in enumerate(DATASET_TEST):\n",
        "  for j,cp in enumerate(class_profiles):\n",
        "    s,_ = DTW(l, cp, distance, (1,2,1))\n",
        "    scores[i, j] = s"
      ]
    },
    {
      "cell_type": "code",
      "execution_count": null,
      "id": "fezKbqgTyaw_",
      "metadata": {
        "id": "fezKbqgTyaw_"
      },
      "outputs": [],
      "source": [
        "new_label_test = np.array(list(map((lambda l: np.argmin(l)), scores)))\n",
        "PartitionDTW = np.array([LABEL_TEST, new_label_test])"
      ]
    },
    {
      "cell_type": "markdown",
      "id": "e92d4bb1-860d-42fb-bdfd-43b41a9d11e9",
      "metadata": {
        "id": "e92d4bb1-860d-42fb-bdfd-43b41a9d11e9"
      },
      "source": [
        "**Evaluation :** A partir de la partition de l'ensemble test obtenue après la DTW, calculer la matrice de confusion qui recense le nombre de données bien classés et mal classés."
      ]
    },
    {
      "cell_type": "code",
      "execution_count": null,
      "id": "caf7fc71-c884-446b-bdc9-4acdb8fbeeaa",
      "metadata": {
        "id": "caf7fc71-c884-446b-bdc9-4acdb8fbeeaa"
      },
      "outputs": [],
      "source": [
        "# Evaluation des résultats par matrices de confusion\n",
        "from sklearn.metrics import accuracy_score\n",
        "from sklearn.metrics import confusion_matrix\n"
      ]
    },
    {
      "cell_type": "code",
      "execution_count": null,
      "id": "c823e9cd-39ac-4c25-b395-22689bb9fd4f",
      "metadata": {
        "colab": {
          "base_uri": "https://localhost:8080/",
          "height": 465
        },
        "id": "c823e9cd-39ac-4c25-b395-22689bb9fd4f",
        "outputId": "fdc4d6e0-22c1-428c-b932-89aa486d8b1c"
      },
      "outputs": [
        {
          "output_type": "stream",
          "name": "stdout",
          "text": [
            "Matrice de confusion par DTW\n",
            "Accuracy sur base de test : 34.0%\n"
          ]
        },
        {
          "output_type": "display_data",
          "data": {
            "text/plain": [
              "<Figure size 640x480 with 2 Axes>"
            ],
            "image/png": "[encoded data removed]"
          },
          "metadata": {}
        }
      ],
      "source": [
        "print('Matrice de confusion par DTW')\n",
        "cm=confusion_matrix(PartitionDTW[0],PartitionDTW[1])\n",
        "cm = cm / cm.sum(axis=1, keepdims=True) * 100\n",
        "sns.heatmap(data=cm,fmt='.2f',xticklabels=np.unique(LABEL_TEST),yticklabels=np.unique(LABEL_TEST),annot=True)\n",
        "\n",
        "# score de performance\n",
        "print(f'Accuracy sur base de test : {accuracy_score(PartitionDTW[0],PartitionDTW[1])*100}%')"
      ]
    },
    {
      "cell_type": "markdown",
      "id": "c32be7d8",
      "metadata": {
        "id": "c32be7d8"
      },
      "source": [
        "# Partie II : Classification des battements cardiaques sur les features sans prétraitement\n",
        "\n",
        "Réaliser une classification des battements cardiaques par une méthode d'apprentissage supervisé et une méthode d'apprentissage non supervisé de votre choix en utilisant la librairie *scikit-learn*.\n",
        "\n",
        "Pour chaque résultat obtenu, calculer la matrice de confusion et interpréter les résultats.\n"
      ]
    },
    {
      "cell_type": "markdown",
      "id": "0221ee5b",
      "metadata": {
        "id": "0221ee5b"
      },
      "source": [
        "## Méthodes supervisées  :\n",
        "indiquer quelles sont les 2 méthodes supervisées de votre choix et calculer la matrice de confusion associée."
      ]
    },
    {
      "cell_type": "code",
      "execution_count": null,
      "id": "46cb8b1d",
      "metadata": {
        "id": "46cb8b1d"
      },
      "outputs": [],
      "source": [
        "from sklearn.metrics import confusion_matrix\n",
        "\n",
        "# Calcul de la matrice de confusion\n",
        "\n",
        "#confusion_matrix(y_true, y_pred)"
      ]
    },
    {
      "cell_type": "markdown",
      "id": "b2164fad",
      "metadata": {
        "id": "b2164fad"
      },
      "source": [
        "## Méthodes non supervisées\n",
        "\n",
        "Indiquer quelles sont les 2 méthodes non supervisées de votre choix et calculer la matrice de confusion associée."
      ]
    },
    {
      "cell_type": "code",
      "execution_count": null,
      "id": "fd913740",
      "metadata": {
        "id": "fd913740"
      },
      "outputs": [],
      "source": []
    },
    {
      "cell_type": "code",
      "execution_count": null,
      "id": "335f1e5a",
      "metadata": {
        "id": "335f1e5a"
      },
      "outputs": [],
      "source": []
    },
    {
      "cell_type": "markdown",
      "id": "ce258562",
      "metadata": {
        "id": "ce258562"
      },
      "source": [
        "# Partie III : classification des battements cardiaques sur les features avec prétraitement par ACP\n",
        "\n",
        "## Méthode supervisée avec réduction de dimension par ACP sur l'ensemble d'apprentissage\n",
        "Réaliser une ACP sur l'ensemble d'apprentissage pour réduire la dimension, visualiser les données\n",
        "puis projeter les données de l'ensemble de test dans la base de l'ACP.\n",
        "\n",
        "Indiquer quelles sont les 2 méthodes supervisées de votre choix et calculer la matrice de confusion associée (confusion_matrix) et le score de performance (accuracy_score)"
      ]
    },
    {
      "cell_type": "code",
      "execution_count": null,
      "id": "e4a67a8d",
      "metadata": {
        "id": "e4a67a8d"
      },
      "outputs": [],
      "source": [
        "from sklearn.decomposition import PCA"
      ]
    },
    {
      "cell_type": "code",
      "execution_count": null,
      "id": "dd0f9780",
      "metadata": {
        "id": "dd0f9780"
      },
      "outputs": [],
      "source": []
    },
    {
      "cell_type": "code",
      "execution_count": null,
      "id": "9782179d",
      "metadata": {
        "id": "9782179d"
      },
      "outputs": [],
      "source": [
        "# Calcul de la matrice de confusion\n"
      ]
    },
    {
      "cell_type": "markdown",
      "id": "f6281618",
      "metadata": {
        "id": "f6281618"
      },
      "source": [
        "## Méthode non supervisée avec réduction de dimension par ACP sur l'ensemble des données\n",
        "\n",
        "Réaliser une ACP sur l'ensemble des données et indiquer quelles sont les méthodes non supervisées de votre choix et calculer la matrice de confusion associée (confusion_matrix) et le score de performance (accuracy_score)"
      ]
    },
    {
      "cell_type": "code",
      "execution_count": null,
      "id": "41f9e75d",
      "metadata": {
        "id": "41f9e75d"
      },
      "outputs": [],
      "source": []
    },
    {
      "cell_type": "code",
      "execution_count": null,
      "id": "cef4ea07",
      "metadata": {
        "id": "cef4ea07"
      },
      "outputs": [],
      "source": [
        "# Calcul de la matrice de confusion\n"
      ]
    },
    {
      "cell_type": "code",
      "execution_count": null,
      "id": "c608da4c",
      "metadata": {
        "id": "c608da4c"
      },
      "outputs": [],
      "source": []
    },
    {
      "cell_type": "markdown",
      "id": "8013df17",
      "metadata": {
        "id": "8013df17"
      },
      "source": [
        "\n",
        "# Réaliser votre étude :\n",
        "\n",
        "- Etudier les meilleurs paramètres pour les méthodes supervisées et non supervisées que vous avez choisies.\n",
        "- Faire une étude sur les paramètres issus de TSFEL en séparant par exemple les différentes modalités (statistiques,temporelles et spectrales) ou en étudiant leur correlation et essayer de réaliser des prétraitements.\n",
        "- Optimiser la réduction de dimensions par ACP\n"
      ]
    },
    {
      "cell_type": "code",
      "execution_count": null,
      "id": "d5bd2f8d",
      "metadata": {
        "id": "d5bd2f8d"
      },
      "outputs": [],
      "source": []
    }
  ],
  "metadata": {
    "colab": {
      "provenance": [],
      "toc_visible": true
    },
    "kernelspec": {
      "display_name": "Python 3 (ipykernel)",
      "language": "python",
      "name": "python3"
    },
    "language_info": {
      "codemirror_mode": {
        "name": "ipython",
        "version": 3
      },
      "file_extension": ".py",
      "mimetype": "text/x-python",
      "name": "python",
      "nbconvert_exporter": "python",
      "pygments_lexer": "ipython3",
      "version": "3.12.7"
    }
  },
  "nbformat": 4,
  "nbformat_minor": 5
}